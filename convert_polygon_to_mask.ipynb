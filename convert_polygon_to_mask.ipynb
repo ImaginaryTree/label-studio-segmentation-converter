{
 "cells": [
  {
   "cell_type": "code",
   "execution_count": null,
   "metadata": {},
   "outputs": [],
   "source": [
    "# conda create -n pcd -c conda-forge python=3.9 numpy opencv scikit-image scipy pillow matplotlib jupyter"
   ]
  },
  {
   "cell_type": "code",
   "execution_count": null,
   "metadata": {},
   "outputs": [],
   "source": [
    "import numpy as np\n",
    "import cv2\n",
    "import json\n",
    "import os "
   ]
  },
  {
   "cell_type": "code",
   "execution_count": null,
   "metadata": {},
   "outputs": [],
   "source": [
    "JSON_PATH = 'project-2-at-2023-12-19-13-01-1ee86bd0.json'\n",
    "IMAGES_PATH = 'images'\n",
    "LABELS_PATH = 'labels6'\n",
    "LABELS_COLOR_PATH = 'labels6_color'\n",
    "\n",
    "# TODO buat list di text aja\n",
    "BLACK_CHOCOLATE = 1\n",
    "WHITE_CHOCOLATE = 2\n",
    "\n",
    "\n",
    "BLACK_CHOCOLATE_COLOR = (255,0,0)\n",
    "WHITE_CHOCOLATE_COLOR = (0,255,0)\n",
    "\n",
    "\n",
    "\n",
    "if not os.path.exists(LABELS_PATH): \n",
    "    os.makedirs(LABELS_PATH) \n",
    "\n",
    "if not os.path.exists(LABELS_COLOR_PATH): \n",
    "    os.makedirs(LABELS_COLOR_PATH) "
   ]
  },
  {
   "cell_type": "code",
   "execution_count": null,
   "metadata": {},
   "outputs": [],
   "source": [
    "f = open(JSON_PATH)\n",
    "data = json.load(f)\n",
    "for dt in data:\n",
    "    file_upload = dt['file_upload']\n",
    "    print(file_upload)\n",
    "    img = cv2.imread(IMAGES_PATH+'\\\\'+file_upload)\n",
    "    height, width, channels = img.shape\n",
    "    label_image  = np.zeros([height, width], dtype=np.uint8)\n",
    "    label_color  = np.zeros([height, width, 3], dtype=np.uint8)\n",
    "\n",
    "    for ano in dt['annotations']:\n",
    "        for res in ano['result']:\n",
    "            ori_height = res['original_height']\n",
    "            ori_width = res['original_width']\n",
    "            if height!=ori_height and width!=ori_width:\n",
    "              raise Exception(\"Size not match!\")\n",
    "\n",
    "            label = res['value']['polygonlabels'][0]\n",
    "            labelnum = 0\n",
    "            labelcol = (255,255,255)\n",
    "            if label=='Dark Chocolate':\n",
    "                labelnum = BLACK_CHOCOLATE\n",
    "                labelcol = BLACK_CHOCOLATE_COLOR\n",
    "            elif label=='White Chocolate':\n",
    "                labelnum = WHITE_CHOCOLATE\n",
    "                labelcol = WHITE_CHOCOLATE_COLOR\n",
    "\n",
    "            print(label)\n",
    "\n",
    "            points = res['value']['points']\n",
    "            points_abs = [\n",
    "                    (int(x / 100 * width), int(y / 100 * height)) for x, y in points\n",
    "                ]\n",
    "            points_np = np.array(points_abs)\n",
    "            cv2.fillPoly(label_image, pts = [points_np], color =labelnum)\n",
    "            cv2.fillPoly(label_color, pts = [points_np], color =labelcol)\n",
    "    \n",
    "    cv2.imwrite(LABELS_PATH+'\\\\'+file_upload+'.png', label_image) \n",
    "    cv2.imwrite(LABELS_COLOR_PATH+'\\\\'+file_upload+'.png', label_color) \n",
    "\n",
    "\n",
    "        "
   ]
  }
 ],
 "metadata": {
  "kernelspec": {
   "display_name": "labelimg",
   "language": "python",
   "name": "python3"
  },
  "language_info": {
   "codemirror_mode": {
    "name": "ipython",
    "version": 3
   },
   "file_extension": ".py",
   "mimetype": "text/x-python",
   "name": "python",
   "nbconvert_exporter": "python",
   "pygments_lexer": "ipython3",
   "version": "3.9.13"
  }
 },
 "nbformat": 4,
 "nbformat_minor": 2
}
